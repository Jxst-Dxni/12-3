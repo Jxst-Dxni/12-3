{
 "cells": [
  {
   "cell_type": "code",
   "execution_count": null,
   "id": "ecf6baeb",
   "metadata": {
    "vscode": {
     "languageId": "plaintext"
    }
   },
   "outputs": [],
   "source": [
    "import "
   ]
  }
 ],
 "metadata": {
  "language_info": {
   "name": "python"
  }
 },
 "nbformat": 4,
 "nbformat_minor": 5
}
