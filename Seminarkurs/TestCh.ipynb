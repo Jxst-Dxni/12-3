{
 "cells": [
  {
   "cell_type": "code",
   "execution_count": null,
   "id": "c1e7e4ab",
   "metadata": {},
   "outputs": [
    {
     "data": {
      "text/plain": [
       "<Popen: returncode: None args: ['/home/codespace/.python/current/bin/python'...>"
      ]
     },
     "execution_count": 9,
     "metadata": {},
     "output_type": "execute_result"
    },
    {
     "name": "stderr",
     "output_type": "stream",
     "text": [
      "usage: ase [-h] [--version] [-T]\n",
      "           {help,info,test,gui,db,run,band-structure,build,dimensionality,eos,ulm,find,nebplot,convert,reciprocal,completion,diff,exec}\n",
      "           ...\n",
      "ase: error: TclError: no display name and no $DISPLAY environment variable\n",
      "To get a full traceback, use: ase -T gui ...\n"
     ]
    }
   ],
   "source": [
    "from ase.build import molecule\n",
    "from ase.visualize import view\n",
    "\n",
    "water = molecule(\"H2O\")\n",
    "view(water)\n"
   ]
  }
 ],
 "metadata": {
  "kernelspec": {
   "display_name": "Python 3",
   "language": "python",
   "name": "python3"
  },
  "language_info": {
   "codemirror_mode": {
    "name": "ipython",
    "version": 3
   },
   "file_extension": ".py",
   "mimetype": "text/x-python",
   "name": "python",
   "nbconvert_exporter": "python",
   "pygments_lexer": "ipython3",
   "version": "3.12.1"
  }
 },
 "nbformat": 4,
 "nbformat_minor": 5
}
