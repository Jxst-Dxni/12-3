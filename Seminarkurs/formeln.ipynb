{
 "cells": [
  {
   "cell_type": "markdown",
   "id": "7b85bc90",
   "metadata": {},
   "source": [
    "### 1 Datentypen\n",
    "## 1.1 Listen\n",
    "\n",
    "Eine Liste ist eine Aneinanderreihung von beliebigen Pythonobjekten. Einige Eigenschaften von Listen lernst Du\n",
    "kennen, wenn Du folgendes Programm ausfuehrst:\n"
   ]
  },
  {
   "cell_type": "code",
   "execution_count": 6,
   "id": "d031e1bb",
   "metadata": {},
   "outputs": [
    {
     "name": "stdout",
     "output_type": "stream",
     "text": [
      "<class 'list'>\n",
      "[1, 2.0, 'Klaus']\n",
      "Das  1 . Element der Liste ist 2.0\n",
      "[1, 'Peter', 'Klaus']\n",
      "[1, 'Peter', 'Klaus', 7]\n",
      "[1, 'Peter', 'Klaus', 7, 'NECRO']\n",
      "Liste ohne Peter: [1, 'Klaus', 7, 'NECRO']\n",
      "Liste ohne 7: [1, 'Klaus', 'NECRO']\n",
      "Die Liste hat 3 Elemente\n"
     ]
    }
   ],
   "source": [
    "lst=[1,2.0,'Klaus']\n",
    "print(type(lst))\n",
    "print(lst)\n",
    "i=1\n",
    "print('Das ',i,'. Element der Liste ist',lst[1])\n",
    "lst[1]='Peter'\n",
    "print(lst)\n",
    "#der Liste kann man Elemente hinzuf¨ugen:\n",
    "lst.append(7)\n",
    "print(lst)\n",
    "lst.append(\"NECRO\")\n",
    "print(lst)\n",
    "#man kann auch ein Element rausl¨oschen, etwa Peter\n",
    "del lst[1]\n",
    "print('Liste ohne Peter:',lst)\n",
    "del lst[2]\n",
    "print(\"Liste ohne 7:\",lst)\n",
    "#Die Anzahl der Elemente in einer Liste erh¨alt man so:\n",
    "l=len(lst)\n",
    "print('Die Liste hat',l,'Elemente')"
   ]
  },
  {
   "cell_type": "markdown",
   "id": "f3cf3ec4",
   "metadata": {},
   "source": [
    "Beachte: Die Objekte in einer Liste k¨onnen einen Typ haben: integer (wie 1 unserem Beispiel) , string (wie Klaus),\n",
    "float (wie 2.0),...\n"
   ]
  },
  {
   "cell_type": "markdown",
   "id": "f3ef1201",
   "metadata": {},
   "source": [
    "### 1.2 Arrays\n",
    "Listen sind praktisch. Aber sie haben eine Nachteil: Man kann mit ihnen nicht so gut Mathematik treiben. F¨ur\n",
    "Mathematik, Physik, Technik ... ben¨otigen wir das Modul NumPy. NumPy ist ein Python-Modul, mit dem du\n",
    "effizient mit großen Zahlenmengen, Tabellen und mathematischen Berechnungen arbeiten kannst – praktisch, wenn\n",
    "Du physikalische Simulationen durchf¨uhren m¨ochtest.\n",
    "Den wichtigsten Datentyp in Numpy stellt das Array dar. Eine Array ist so ¨ahnlich wie eine Liste, mit dem großen\n",
    "Unterschied, dass bei einem Array alle Elemente von gleichen Datentyp sein m¨ussen.\n",
    "Beispiel Stell dir vor, du willst die Noten deiner Freunde in Mathe speichern: 2, 3, 1, 4, 2. Mit einem Array kannst\n",
    "du das so machen:\n"
   ]
  },
  {
   "cell_type": "code",
   "execution_count": 8,
   "id": "11eed82d",
   "metadata": {},
   "outputs": [
    {
     "name": "stdout",
     "output_type": "stream",
     "text": [
      "2\n",
      "2.4\n"
     ]
    }
   ],
   "source": [
    "import numpy as np\n",
    "noten = np.array([2, 3, 1, 4, 2])\n",
    "\n",
    "print(noten[0]) # Ausgabe: 2\n",
    "print(np.mean(noten))"
   ]
  },
  {
   "cell_type": "markdown",
   "id": "8b441cb3",
   "metadata": {},
   "source": [
    "Jetzt hast du alle Noten in einer einzigen Variable gespeichert - wie in einem Notizbuch mit nummerierten Seiten.\n",
    "Du kannst z.B. die erste Note abrufen mit:\n",
    "print(noten[0]) # Ausgabe: 2\n",
    "\n",
    "Oder den Durchschnitt berechnen:\n",
    "print(np.mean(noten))"
   ]
  },
  {
   "cell_type": "code",
   "execution_count": 7,
   "id": "45bfb2b0",
   "metadata": {},
   "outputs": [
    {
     "name": "stdout",
     "output_type": "stream",
     "text": [
      "Plagueis\n"
     ]
    }
   ],
   "source": [
    "import numpy as np\n",
    "Buecher = np.array([\"Faust\",\"Darth Bane\",\"Revan\",\"Plagueis\"])\n",
    "\n",
    "print(Buecher[3])"
   ]
  },
  {
   "cell_type": "markdown",
   "id": "0297d2cf",
   "metadata": {},
   "source": [
    "Das war ein Beispiel f¨ur Mathematik mit arrays!\n",
    "Praktisch sind arrays auch f¨ur Funktionen:\n"
   ]
  },
  {
   "cell_type": "code",
   "execution_count": 9,
   "id": "719f0277",
   "metadata": {},
   "outputs": [
    {
     "name": "stdout",
     "output_type": "stream",
     "text": [
      "[9 1 0 1 4]\n"
     ]
    }
   ],
   "source": [
    "x=np.array([-3,-1,0,-1,2])\n",
    "y=x*x\n",
    "print(y)\n"
   ]
  },
  {
   "cell_type": "code",
   "execution_count": 11,
   "id": "7122327f",
   "metadata": {},
   "outputs": [
    {
     "name": "stdout",
     "output_type": "stream",
     "text": [
      "[ 81  16   1   0  25  81 225]\n"
     ]
    }
   ],
   "source": [
    "x=np.array([-9,-4,-1,0,5,9,15])\n",
    "y=x*x\n",
    "print(y)"
   ]
  },
  {
   "cell_type": "markdown",
   "id": "1875961e",
   "metadata": {},
   "source": [
    "Jetzt hast Du in einem Rutsch alle Elemente von x quadriert.\n",
    "Passiert, wenn Du\n"
   ]
  },
  {
   "cell_type": "code",
   "execution_count": 12,
   "id": "00c4e0cf",
   "metadata": {},
   "outputs": [
    {
     "name": "stdout",
     "output_type": "stream",
     "text": [
      "[-2  0  1  0  3]\n",
      "[-6 -2  0 -2  4]\n"
     ]
    }
   ],
   "source": [
    "x=np.array([-3,-1,0,-1,2])\n",
    "y=x+1\n",
    "print(y)\n",
    "#oder\n",
    "y2=x*2\n",
    "print(y2)"
   ]
  },
  {
   "cell_type": "code",
   "execution_count": 13,
   "id": "952346bb",
   "metadata": {},
   "outputs": [
    {
     "name": "stdout",
     "output_type": "stream",
     "text": [
      "[-8 -3  0  1  6 10 16]\n",
      "[-18  -8  -2   0  10  18  30]\n"
     ]
    }
   ],
   "source": [
    "x=np.array([-9,-4,-1,0,5,9,15])\n",
    "y=x+1\n",
    "print(y)\n",
    "#oder\n",
    "y2=x*2\n",
    "print(y2)"
   ]
  },
  {
   "cell_type": "markdown",
   "id": "432c8908",
   "metadata": {},
   "source": [
    "machst?\n",
    "Vielleicht ist Dir aufgefallen, dass Du ein array erzeugt hast, indem Du die Liste [−3, −1, 0, −1, 2] in ein Array\n",
    "umgewandelt hast. Das macht man oft, es gibt aber noch andere M¨oglichkeiten (siehe unten).\n",
    "Erst noch ein paar n¨utzliche Array-Befehle:\n"
   ]
  },
  {
   "cell_type": "code",
   "execution_count": null,
   "id": "fced3af9",
   "metadata": {},
   "outputs": [
    {
     "name": "stdout",
     "output_type": "stream",
     "text": [
      "[1. 2. 3. 4. 5. 6.]\n",
      "6\n",
      "Das  0 .Elemente ist 1.0\n",
      "Das  3 .Elemente ist 4.0\n",
      "Datentyp: float64\n"
     ]
    }
   ],
   "source": [
    "#erzeugen aus eine Liste\n",
    "a=np.array([1.0,2.0,3.0,4.0,5.0,6.0])\n",
    "print(a)\n",
    "#Die Anzahl der Elemente erhaelt man so:\n",
    "s=a.size\n",
    "print(s)\n",
    "i=0\n",
    "print('Das ',i,'.Elemente ist',a[i])\n",
    "i=3\n",
    "print('Das ',i,'.Elemente ist',a[i])\n",
    "#wichtig ist auch der Datentyp:\n",
    "print('Datentyp:',a.dtype)\n"
   ]
  },
  {
   "cell_type": "markdown",
   "id": "20ab2b13",
   "metadata": {},
   "source": [
    "Beim Datentyp muss man aufpassen: Wenn man das Array aus einer Liste erzeugt, so versucht NumPy, den Datentyp\n",
    "des Arrays aus den in der Liste enthaltenen Daten abzuleiten. Sieh hier:\n"
   ]
  },
  {
   "cell_type": "code",
   "execution_count": 15,
   "id": "6e63f9dd",
   "metadata": {},
   "outputs": [
    {
     "name": "stdout",
     "output_type": "stream",
     "text": [
      "[ 1  2 42]\n",
      "[ 1.   2.  42.7]\n"
     ]
    }
   ],
   "source": [
    "import numpy as np\n",
    "a=np.array([1,2,3])\n",
    "b=np.array([1.0,2,4])\n",
    "# Pruefe mit a.type und b.type den Datentyp\n",
    "a[2]=42.7\n",
    "b[2]=42.7\n",
    "print(a)\n",
    "print(b)\n",
    "#gemein, gemein...\n"
   ]
  },
  {
   "cell_type": "markdown",
   "id": "4e4cda7a",
   "metadata": {},
   "source": [
    "Was ist daran eigentlich gemein?"
   ]
  },
  {
   "cell_type": "markdown",
   "id": "09e96bf2",
   "metadata": {},
   "source": [
    "Erzeugen von Arrays In den bisherigen Beispielen wurde ein Array immer aus einer Liste erzeugt. Es gibt noch\n",
    "andere Moeglichkeiten:"
   ]
  },
  {
   "cell_type": "code",
   "execution_count": 16,
   "id": "73cb2459",
   "metadata": {},
   "outputs": [
    {
     "name": "stdout",
     "output_type": "stream",
     "text": [
      "[ 1  3  5  7  9 11 13 15 17 19]\n",
      "[ 1.          4.33333333  7.66666667 11.         14.33333333 17.66666667\n",
      " 21.        ]\n",
      "[ 1.   2.  42.7]\n",
      "[10. 10. 10. 10. 10. 10. 10. 10. 10. 10. 10. 10. 10. 10. 10. 10. 10. 10.\n",
      " 10. 10. 10. 10. 10. 10. 10. 10. 10. 10. 10. 10. 10. 10. 10. 10. 10. 10.\n",
      " 10. 10. 10. 10. 10. 10. 10. 10. 10. 10. 10. 10. 10. 10. 10. 10. 10. 10.\n",
      " 10. 10. 10. 10. 10. 10. 10. 10. 10. 10. 10. 10. 10. 10. 10. 10. 10. 10.\n",
      " 10. 10. 10. 10. 10. 10. 10. 10. 10. 10. 10. 10. 10. 10. 10. 10. 10. 10.\n",
      " 10. 10. 10. 10. 10. 10. 10. 10. 10. 10.]\n"
     ]
    }
   ],
   "source": [
    "import numpy as np\n",
    "#np.arange(Anfang,Ende,Schrittweite)\n",
    "a=np.arange(1,20,2)\n",
    "print(a)\n",
    "#Erzeuge mit np.arange das Array [4,7,10,13,16]\n",
    "# Es geht aber auch so:\n",
    "#np.linespace(Anfang,Ende,Anzahl)\n",
    "a=np.linspace(1,21,5)\n",
    "a=np.linspace(1,21,7)\n",
    "print(a)\n",
    "print(b)\n",
    "#Wenn man nur Nuller will,kann man schreiben\n",
    "n=np.zeros(10)\n",
    "#einsen erh¨alt man so\n",
    "eins=np.ones(100)\n",
    "#Zehner sind dann\n",
    "zehn=eins*10\n",
    "print(zehn)\n",
    "#lauter wurzelzweier k¨onnte man so erzeugen\n",
    "sqrt2=np.sqrt(np.ones(10)*2)\n"
   ]
  },
  {
   "cell_type": "markdown",
   "id": "e6b02fd6",
   "metadata": {},
   "source": [
    "Aufgabe: Erzeuge das Array t mit Elementen von einschliesslich 0 bis einschliesslich 1 mit der Schrittweite 0.1"
   ]
  },
  {
   "cell_type": "code",
   "execution_count": 22,
   "id": "8b7b0df9",
   "metadata": {},
   "outputs": [
    {
     "name": "stdout",
     "output_type": "stream",
     "text": [
      "[0.  0.1 0.2 0.3 0.4 0.5 0.6 0.7 0.8 0.9 1. ]\n"
     ]
    }
   ],
   "source": [
    "import numpy as np\n",
    "a=np.arange(0,1.1,0.1)\n",
    "print(a)\n",
    "\n"
   ]
  },
  {
   "cell_type": "markdown",
   "id": "adf917a1",
   "metadata": {},
   "source": [
    "### 2 Graphische Ausgabe mit matplotlib\n",
    "In der Physik und in den Naturwissenschaften werden sehr h¨aufig Diagramm verwendet, die den Zusammenhang von\n",
    "Gr¨oßen veranschaulicht. Z.B kann man die Geschwindigkeit eines Balls gegen die Zeit auftragen. Die Bibliothek Matplotlib bietet eine riesiges Reservoir an graphischen Darstellungsm¨oglichkeiten, wir werden aber nur wenige brauchen.\n",
    "Hier findest Du ganz viele Beispiele: https://matplotlib.org/stable/gallery/index.html. Wenn ich nicht\n",
    "weiß, wie man das Diagramm erzeugt, das ich im Kopf habe, schaue ich dort noch einem Beispiel, dass ungef¨ahr so\n",
    "aus, wie ich es mir vorstelle.\n"
   ]
  },
  {
   "cell_type": "markdown",
   "id": "2f732a8b",
   "metadata": {},
   "source": [
    "Beispiel Es soll die Polynomfunktion $$f(x) = \\frac{1}{4}(x+1)(x-3)^3$$ im Intervall [-2,4] dargestellt werden.\n"
   ]
  }
 ],
 "metadata": {
  "kernelspec": {
   "display_name": "Python 3",
   "language": "python",
   "name": "python3"
  },
  "language_info": {
   "codemirror_mode": {
    "name": "ipython",
    "version": 3
   },
   "file_extension": ".py",
   "mimetype": "text/x-python",
   "name": "python",
   "nbconvert_exporter": "python",
   "pygments_lexer": "ipython3",
   "version": "3.12.1"
  }
 },
 "nbformat": 4,
 "nbformat_minor": 5
}
